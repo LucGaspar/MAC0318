{
 "cells": [
  {
   "cell_type": "code",
   "execution_count": null,
   "metadata": {},
   "outputs": [],
   "source": [
    "import numpy as np\n",
    "import matplotlib.pyplot as plt\n",
    "import IPython.display as display\n",
    "import util\n",
    "from sklearn.datasets import fetch_mldata\n",
    "\n",
    "%matplotlib inline "
   ]
  },
  {
   "cell_type": "markdown",
   "metadata": {},
   "source": [
    "### Download MNIST e separar apenas os exemplos de dígitos 0 e 1"
   ]
  },
  {
   "cell_type": "code",
   "execution_count": null,
   "metadata": {},
   "outputs": [],
   "source": [
    "mnist = fetch_mldata('MNIST original') \n",
    "vals = set()\n",
    "for idx, label in enumerate(mnist.target):\n",
    "    if (label < 3):\n",
    "        vals.add(idx)\n",
    "data_mnist = np.array([mnist.data[idx] for idx in vals])\n",
    "label_mnist = np.array([mnist.target[idx] for idx in vals])\n",
    "print(data_mnist.shape, label_mnist.shape)"
   ]
  },
  {
   "cell_type": "markdown",
   "metadata": {},
   "source": [
    "### Selecionando e visualizando um subdataset com n exemplos"
   ]
  },
  {
   "cell_type": "code",
   "execution_count": null,
   "metadata": {},
   "outputs": [],
   "source": [
    "new_data, new_labels = util.get_samples(data_mnist, \n",
    "                                        label_mnist, \n",
    "                                        size=40)"
   ]
  },
  {
   "cell_type": "code",
   "execution_count": null,
   "metadata": {},
   "outputs": [],
   "source": [
    "util.plot_img_grid(new_data, \n",
    "                   new_labels, \n",
    "                   max_cols = 5)"
   ]
  },
  {
   "cell_type": "code",
   "execution_count": null,
   "metadata": {},
   "outputs": [],
   "source": [
    "util.array_imshow(new_data[19], new_labels[19], grid=True)"
   ]
  },
  {
   "cell_type": "code",
   "execution_count": null,
   "metadata": {},
   "outputs": [],
   "source": [
    "util.array_imshow(new_data[10], new_labels[10], grid=True)"
   ]
  },
  {
   "cell_type": "markdown",
   "metadata": {},
   "source": [
    "### Snippet simples que itera sobre uma lista de vetores de imagem e mostra eles em tela com uma pausa de 1 segundo "
   ]
  },
  {
   "cell_type": "markdown",
   "metadata": {},
   "source": [
    "## Exemplo Classificação binária de dígitos com base em regras\n",
    "\n",
    "#### Analisando as imagens dos dígitos 0 e 1, codifique uma função que receba uma imagem e retorne uma predição em float: 0.0 se o dígito for reconhecido como zero e 1.0 caso contrário"
   ]
  },
  {
   "cell_type": "code",
   "execution_count": 9,
   "metadata": {},
   "outputs": [],
   "source": [
    "\n",
    "def mean():  \n",
    "    x01 = x02 = x12 = y01 = y02 = y12 = 0\n",
    "    media0 = []\n",
    "    media1 = []\n",
    "    media2 = []\n",
    "    for i in range(28):\n",
    "        new = []\n",
    "        media0.append(new)\n",
    "        media1.append(new)\n",
    "        media2.append(new)\n",
    "        for j in range(28):\n",
    "            media0[i].append(0)\n",
    "            media1[i].append(0)\n",
    "            media2[i].append(0)\n",
    "            \n",
    "    a = 0\n",
    "    b = 0\n",
    "    c = 0\n",
    "    \n",
    "    for i,_ in enumerate(new_data):\n",
    "        img = util.array2img(new_data[i]);\n",
    "        for j in range(28):\n",
    "            for k in range(28):\n",
    "                \n",
    "                if (int(new_labels[i]) == 0): \n",
    "                    media0[j][k] = media0[j][k] + img[j][k]\n",
    "                    a = a + 1\n",
    "                elif (int(new_labels[i]) == 1):\n",
    "                    media1[j][k] = media1[j][k] + img[j][k]\n",
    "                    b = b + 1\n",
    "                else:\n",
    "                    media2[j][k] = media2[j][k] + img[j][k]\n",
    "                    c = c + 2\n",
    "    max01 = 0\n",
    "    max02 = 0\n",
    "    max12 = 0\n",
    "    p01 = 0 #p0\n",
    "    p02 = 0 #p0\n",
    "    p12 = 0 #p1\n",
    "    for i in range(28):\n",
    "        for j in range(28):\n",
    "            ad = media0[i][j] / a\n",
    "            bd = media1[i][j] / b\n",
    "            cd = media2[i][j] / c\n",
    "            dif01 = ad - bd\n",
    "            dif02 = ad - cd\n",
    "            dif12 = bd - cd\n",
    "            \n",
    "            if (abs(dif01) > max01):\n",
    "                max01 = abs(dif01)\n",
    "                x01 = i\n",
    "                y01 = j\n",
    "                p01  = ad\n",
    "            if (abs(dif02) > max02):\n",
    "                max02 = abs(dif02)\n",
    "                x02 = i\n",
    "                y02 = j\n",
    "                p02 = ad\n",
    "            if (abs(dif12) > max12):\n",
    "                max12 = abs(dif12)\n",
    "                x12 = i\n",
    "                y12 = j   \n",
    "                p12 = bd\n",
    "                \n",
    "    result = []\n",
    "    result.append(max01)\n",
    "    result.append(x01)\n",
    "    result.append(y01)\n",
    "    result.append(p01)\n",
    "    result.append(max02)\n",
    "    result.append(x02)\n",
    "    result.append(y02)\n",
    "    result.append(p02)\n",
    "    result.append(max12)\n",
    "    result.append(x12)\n",
    "    result.append(y12)\n",
    "    result.append(p12)\n",
    "    \n",
    "    return result\n",
    "\n",
    "media = []\n",
    "def calc_media():\n",
    "    global media\n",
    "    media = mean()\n",
    "    \n",
    "calc_media()\n",
    "    \n",
    "def get_media():\n",
    "    global media\n",
    "    return media"
   ]
  },
  {
   "cell_type": "code",
   "execution_count": 10,
   "metadata": {},
   "outputs": [],
   "source": [
    "def classifier(flat_img):\n",
    "    img = util.array2img(flat_img)\n",
    "    result = get_media()\n",
    "    center_img = img[result[1], result[2]]\n",
    "    center_img2= img[result[7], result[8]]\n",
    "    if (result[0] > 0):\n",
    "        # 0 mais escuro que 1\n",
    "        if (np.mean(center_img) > result):\n",
    "            return 0.0\n",
    "        else:\n",
    "            return 1.0\n",
    "    else:\n",
    "        # 1 mais escuro que 0\n",
    "        if (np.mean(center_img) < 200):\n",
    "            return 0.0\n",
    "        else:\n",
    "            return 1.0\n",
    "        \n",
    "    return 2.0"
   ]
  },
  {
   "cell_type": "code",
   "execution_count": 11,
   "metadata": {},
   "outputs": [],
   "source": [
    "def predictor(data, classifier=None):\n",
    "    assert classifier is not None, \"Classifier not implemented or not passed to predictor function\"\n",
    "    predictions = []\n",
    "    for i,_ in enumerate(data):\n",
    "        class_prediction = classifier(data[i])\n",
    "        predictions.append(class_prediction)\n",
    "\n",
    "    predictions = np.asarray(predictions, \n",
    "                             dtype=new_labels.dtype)\n",
    "    return predictions"
   ]
  },
  {
   "cell_type": "code",
   "execution_count": 12,
   "metadata": {},
   "outputs": [],
   "source": [
    "def evaluator(true_labels, predicted_labels, normalized=True):\n",
    "    assert true_labels.shape[0] == predicted_labels.shape[0], \"Original labels and predicted labels \\\n",
    "                                                               doesn't match in rows number\"\n",
    "    util.plot_confusion_matrix_metrics(true_labels=true_labels,\n",
    "                                       predicted_labels=predicted_labels,\n",
    "                                       normalized=True)"
   ]
  },
  {
   "cell_type": "code",
   "execution_count": 13,
   "metadata": {},
   "outputs": [
    {
     "name": "stderr",
     "output_type": "stream",
     "text": [
      "/usr/local/lib/python3.5/dist-packages/pandas_ml/confusion_matrix/abstract.py:66: FutureWarning: \n",
      "Passing list-likes to .loc or [] with any missing label will raise\n",
      "KeyError in the future, you can use .reindex() as an alternative.\n",
      "\n",
      "See the documentation here:\n",
      "http://pandas.pydata.org/pandas-docs/stable/indexing.html#deprecate-loc-reindex-listlike\n",
      "  df = df.loc[idx, idx.copy()].fillna(0)  # if some columns or rows are missing\n"
     ]
    },
    {
     "data": {
      "image/png": "[encoded data removed]",
      "text/plain": [
       "<matplotlib.figure.Figure at 0x7f245f8016a0>"
      ]
     },
     "metadata": {},
     "output_type": "display_data"
    },
    {
     "name": "stdout",
     "output_type": "stream",
     "text": [
      "Predicted  0.0  1.0  2.0  __all__\n",
      "Actual                           \n",
      "0.0         12    1    0       13\n",
      "1.0          9    5    0       14\n",
      "2.0          6    7    0       13\n",
      "__all__     27   13    0       40\n",
      "===================================================\n",
      "Evaluation metrics:\n",
      "Confusion Matrix:\n",
      "\n",
      "Predicted  0.0  1.0  2.0  __all__\n",
      "Actual                           \n",
      "0.0         12    1    0       13\n",
      "1.0          9    5    0       14\n",
      "2.0          6    7    0       13\n",
      "__all__     27   13    0       40\n",
      "\n",
      "\n",
      "Overall Statistics:\n",
      "\n",
      "Accuracy: 0.425\n",
      "95% CI: (0.27042903126886286, 0.5910994195730366)\n",
      "No Information Rate: ToDo\n",
      "P-Value [Acc > NIR]: 0.9996801195875814\n",
      "Kappa: 0.13776944704779753\n",
      "Mcnemar's Test P-Value: ToDo\n",
      "\n",
      "\n",
      "Class Statistics:\n",
      "\n",
      "Classes                                      0.0        1.0    2.0\n",
      "Population                                    40         40     40\n",
      "P: Condition positive                         13         14     13\n",
      "N: Condition negative                         27         26     27\n",
      "Test outcome positive                         27         13      0\n",
      "Test outcome negative                         13         27     40\n",
      "TP: True Positive                             12          5      0\n",
      "TN: True Negative                             12         18     27\n",
      "FP: False Positive                            15          8      0\n",
      "FN: False Negative                             1          9     13\n",
      "TPR: (Sensitivity, hit rate, recall)    0.923077   0.357143      0\n",
      "TNR=SPC: (Specificity)                  0.444444   0.692308      1\n",
      "PPV: Pos Pred Value (Precision)         0.444444   0.384615    NaN\n",
      "NPV: Neg Pred Value                     0.923077   0.666667  0.675\n",
      "FPR: False-out                          0.555556   0.307692      0\n",
      "FDR: False Discovery Rate               0.555556   0.615385    NaN\n",
      "FNR: Miss Rate                         0.0769231   0.642857      1\n",
      "ACC: Accuracy                                0.6      0.575  0.675\n",
      "F1 score                                     0.6    0.37037      0\n",
      "MCC: Matthews correlation coefficient   0.367521   0.050358    NaN\n",
      "Informedness                            0.367521  0.0494505      0\n",
      "Markedness                              0.367521  0.0512821    NaN\n",
      "Prevalence                                 0.325       0.35  0.325\n",
      "LR+: Positive likelihood ratio           1.66154    1.16071    NaN\n",
      "LR-: Negative likelihood ratio          0.173077   0.928571      1\n",
      "DOR: Diagnostic odds ratio                   9.6       1.25    NaN\n",
      "FOR: False omission rate               0.0769231   0.333333  0.325\n"
     ]
    },
    {
     "name": "stderr",
     "output_type": "stream",
     "text": [
      "/usr/local/lib/python3.5/dist-packages/pandas_ml/confusion_matrix/bcm.py:236: RuntimeWarning: invalid value encountered in double_scalars\n",
      "  return(np.float64(self.TP) / self.PositiveTest)\n",
      "/usr/local/lib/python3.5/dist-packages/pandas_ml/confusion_matrix/bcm.py:267: RuntimeWarning: invalid value encountered in double_scalars\n",
      "  return(np.float64(self.FP) / self.PositiveTest)\n",
      "/usr/local/lib/python3.5/dist-packages/pandas_ml/confusion_matrix/bcm.py:304: RuntimeWarning: invalid value encountered in true_divide\n",
      "  (self.TN + self.FP) * (self.TN + self.FN)))\n",
      "/usr/local/lib/python3.5/dist-packages/pandas_ml/confusion_matrix/bcm.py:332: RuntimeWarning: invalid value encountered in double_scalars\n",
      "  return(np.float64(self.TPR) / self.FPR)\n"
     ]
    }
   ],
   "source": [
    "predictions = predictor(new_data, classifier=classifier)\n",
    "evaluator(true_labels=new_labels, predicted_labels=predictions)"
   ]
  },
  {
   "cell_type": "code",
   "execution_count": null,
   "metadata": {},
   "outputs": [],
   "source": []
  }
 ],
 "metadata": {
  "kernelspec": {
   "display_name": "Python 3",
   "language": "python",
   "name": "python3"
  },
  "language_info": {
   "codemirror_mode": {
    "name": "ipython",
    "version": 3
   },
   "file_extension": ".py",
   "mimetype": "text/x-python",
   "name": "python",
   "nbconvert_exporter": "python",
   "pygments_lexer": "ipython3",
   "version": "3.5.2"
  }
 },
 "nbformat": 4,
 "nbformat_minor": 2
}
